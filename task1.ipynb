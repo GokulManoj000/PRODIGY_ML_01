{
 "cells": [
  {
   "cell_type": "code",
   "execution_count": 1,
   "metadata": {},
   "outputs": [
    {
     "name": "stdout",
     "output_type": "stream",
     "text": [
      "Mean Squared Error: 1430049581.8514185\n",
      "Predicted Price: 176608.05054170304\n"
     ]
    },
    {
     "name": "stderr",
     "output_type": "stream",
     "text": [
      "c:\\Python311\\Lib\\site-packages\\sklearn\\base.py:465: UserWarning: X does not have valid feature names, but LinearRegression was fitted with feature names\n",
      "  warnings.warn(\n"
     ]
    }
   ],
   "source": [
    "import pandas as pd\n",
    "from sklearn.linear_model import LinearRegression\n",
    "\n",
    "# Load your house data into a pandas DataFrame\n",
    "data = pd.read_csv(\"train.csv\")  # Replace with your data source\n",
    "\n",
    "# Data Preprocessing\n",
    "from sklearn.preprocessing import LabelEncoder\n",
    "\n",
    "# Initialize LabelEncoder\n",
    "label_encoder = LabelEncoder()\n",
    "\n",
    "# Apply LabelEncoder to each categorical column\n",
    "for column in data.select_dtypes(include=['object']).columns:\n",
    "    data[column] = label_encoder.fit_transform(data[column])\n",
    "\n",
    "# Correlation Analysis\n",
    "correlation_matrix = data.corr()\n",
    "correlation_with_target = correlation_matrix['SalePrice']\n",
    "\n",
    "# Select relevant features and target variable\n",
    "features = [\"GrLivArea\", \"BedroomAbvGr\", \"OverallQual\"]\n",
    "target = \"SalePrice\"\n",
    "\n",
    "# Train-Test Split (optional, recommended for better evaluation)\n",
    "from sklearn.model_selection import train_test_split\n",
    "\n",
    "X_train, X_test, y_train, y_test = train_test_split(\n",
    "    data[features], data[target], test_size=0.2, random_state=1\n",
    ")\n",
    "\n",
    "# Create the linear regression model\n",
    "model = LinearRegression()\n",
    "\n",
    "# Train the model on the training data\n",
    "model.fit(X_train, y_train)\n",
    "\n",
    "# Make predictions on the test data\n",
    "predictions = model.predict(X_test)\n",
    "\n",
    "# Evaluate the model performance (using Mean Squared Error)\n",
    "from sklearn.metrics import mean_squared_error\n",
    "\n",
    "mse = mean_squared_error(y_test, predictions)\n",
    "print(\"Mean Squared Error:\", mse)\n",
    "\n",
    "# Function to predict price for a new house\n",
    "def predict_price(square_footage, bedrooms, overallquality):\n",
    "    new_house = [[square_footage, bedrooms, overallquality]]\n",
    "    prediction = model.predict(new_house)[0]\n",
    "    return prediction\n",
    "\n",
    "# Example usage\n",
    "predicted_price = predict_price(2000, 3, 5)\n",
    "print(\"Predicted Price:\", predicted_price)"
   ]
  }
 ],
 "metadata": {
  "kernelspec": {
   "display_name": "Python 3",
   "language": "python",
   "name": "python3"
  },
  "language_info": {
   "codemirror_mode": {
    "name": "ipython",
    "version": 3
   },
   "file_extension": ".py",
   "mimetype": "text/x-python",
   "name": "python",
   "nbconvert_exporter": "python",
   "pygments_lexer": "ipython3",
   "version": "3.11.2"
  }
 },
 "nbformat": 4,
 "nbformat_minor": 2
}
